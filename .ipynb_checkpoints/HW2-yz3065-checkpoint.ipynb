{
 "cells": [
  {
   "cell_type": "code",
   "execution_count": 1,
   "metadata": {
    "collapsed": true
   },
   "outputs": [],
   "source": [
    "%matplotlib inline\n",
    "import matplotlib.pyplot as plt\n",
    "import numpy as np\n",
    "import scipy.misc\n",
    "import glob\n",
    "import sys\n",
    "import tensorflow as tf\n",
    "from datetime import datetime"
   ]
  },
  {
   "cell_type": "code",
   "execution_count": 2,
   "metadata": {
    "collapsed": true
   },
   "outputs": [],
   "source": [
    "# Helper functions, DO NOT modify this\n",
    "\n",
    "def get_img_array(path):\n",
    "    \"\"\"\n",
    "    Given path of image, returns it's numpy array\n",
    "    \"\"\"\n",
    "    return scipy.misc.imread(path)\n",
    "\n",
    "def get_files(folder):\n",
    "    \"\"\"\n",
    "    Given path to folder, returns list of files in it\n",
    "    \"\"\"\n",
    "    filenames = [file for file in glob.glob(folder+'*/*')]\n",
    "    filenames.sort()\n",
    "    return filenames\n",
    "\n",
    "def get_label(filepath, label2id):\n",
    "    \"\"\"\n",
    "    Files are assumed to be labeled as: /path/to/file/999_frog.png\n",
    "    Returns label for a filepath\n",
    "    \"\"\"\n",
    "    tokens = filepath.split('/')\n",
    "    label = tokens[-1].split('_')[1][:-4]\n",
    "    if label in label2id:\n",
    "        return label2id[label]\n",
    "    else:\n",
    "        sys.exit(\"Invalid label: \" + label)"
   ]
  },
  {
   "cell_type": "code",
   "execution_count": 3,
   "metadata": {
    "collapsed": true
   },
   "outputs": [],
   "source": [
    "# Functions to load data, DO NOT change these\n",
    "\n",
    "def get_labels(folder, label2id):\n",
    "    \"\"\"\n",
    "    Returns vector of labels extracted from filenames of all files in folder\n",
    "    :param folder: path to data folder\n",
    "    :param label2id: mapping of text labels to numeric ids. (Eg: automobile -> 0)\n",
    "    \"\"\"\n",
    "    files = get_files(folder)\n",
    "    y = []\n",
    "    for f in files:\n",
    "        y.append(get_label(f,label2id))\n",
    "    return np.array(y)\n",
    "\n",
    "def one_hot(y, num_classes=10):\n",
    "    \"\"\"\n",
    "    Converts each label index in y to vector with one_hot encoding\n",
    "    \"\"\"\n",
    "    y_one_hot = np.zeros((y.shape[0], num_classes))\n",
    "    y_one_hot[y] = 1\n",
    "    return y_one_hot.T\n",
    "\n",
    "def get_label_mapping(label_file):\n",
    "    \"\"\"\n",
    "    Returns mappings of label to index and index to label\n",
    "    The input file has list of labels, each on a separate line.\n",
    "    \"\"\"\n",
    "    with open(label_file, 'r') as f:\n",
    "        id2label = f.readlines()\n",
    "        id2label = [l.strip() for l in id2label]\n",
    "    label2id = {}\n",
    "    count = 0\n",
    "    for label in id2label:\n",
    "        label2id[label] = count\n",
    "        count += 1\n",
    "    return id2label, label2id\n",
    "\n",
    "def get_images(folder):\n",
    "    \"\"\"\n",
    "    returns numpy array of all samples in folder\n",
    "    each column is a sample resized to 30x30 and flattened\n",
    "    \"\"\"\n",
    "    files = get_files(folder)\n",
    "    images = []\n",
    "    count = 0\n",
    "    \n",
    "    for f in files:\n",
    "        count += 1\n",
    "        if count % 10000 == 0:\n",
    "            print(\"Loaded {}/{}\".format(count,len(files)))\n",
    "        img_arr = get_img_array(f)\n",
    "        img_arr = img_arr.flatten() / 255.0\n",
    "        images.append(img_arr)\n",
    "    X = np.column_stack(images)\n",
    "\n",
    "    return X\n",
    "\n",
    "def get_train_data(data_root_path):\n",
    "    \"\"\"\n",
    "    Return X and y\n",
    "    \"\"\"\n",
    "    train_data_path = data_root_path + 'train'\n",
    "    id2label, label2id = get_label_mapping(data_root_path+'labels.txt')\n",
    "    print(label2id)\n",
    "    X = get_images(train_data_path)\n",
    "    y = get_labels(train_data_path, label2id)\n",
    "    return X, y\n",
    "\n",
    "def save_predictions(filename, y):\n",
    "    \"\"\"\n",
    "    Dumps y into .npy file\n",
    "    \"\"\"\n",
    "    np.save(filename, y)# Load the data"
   ]
  },
  {
   "cell_type": "code",
   "execution_count": 4,
   "metadata": {
    "scrolled": true
   },
   "outputs": [
    {
     "name": "stdout",
     "output_type": "stream",
     "text": [
      "{'airplane': 0, 'automobile': 1, 'bird': 2, 'cat': 3, 'deer': 4, 'dog': 5, 'frog': 6, 'horse': 7, 'ship': 8, 'truck': 9}\n",
      "Loaded 10000/50000\n",
      "Loaded 20000/50000\n",
      "Loaded 30000/50000\n",
      "Loaded 40000/50000\n",
      "Loaded 50000/50000\n",
      "Loaded 10000/10000\n",
      "Data loading done\n"
     ]
    }
   ],
   "source": [
    "# Load the data\n",
    "data_root_path = '/Users/zhengyixing/Documents/study/3nd_semester/DL/homework/cifar10-hw1/'\n",
    "X_train, y_train = get_train_data(data_root_path) # this may take a few minutes\n",
    "X_test = get_images(data_root_path + 'test').T\n",
    "\n",
    "print('Data loading done')\n",
    "indexs = np.random.choice(50000, 5000, replace=False)\n",
    "X_validation = X_train[:,indexs].T\n",
    "y_validation = y_train[indexs]\n",
    "X_train = np.delete(X_train,indexs, axis = 1).T\n",
    "y_train = np.delete(y_train,indexs)"
   ]
  },
  {
   "cell_type": "code",
   "execution_count": 5,
   "metadata": {},
   "outputs": [
    {
     "name": "stdout",
     "output_type": "stream",
     "text": [
      "(5000, 3072)\n",
      "(10000, 3072)\n",
      "[ 3658 29235 25609 ...,  7454 37944 15853]\n"
     ]
    }
   ],
   "source": [
    "print(X_validation.shape)\n",
    "print(X_test.shape)\n",
    "arr = np.arange(X_train.shape[0])\n",
    "np.random.shuffle(arr)\n",
    "print(arr)"
   ]
  },
  {
   "cell_type": "code",
   "execution_count": 6,
   "metadata": {
    "collapsed": true
   },
   "outputs": [],
   "source": [
    "def get_batch(X, y, batch_size):\n",
    "        \"\"\"\n",
    "        Return minibatch of samples and labels\n",
    "        \n",
    "        :param X, y: samples and corresponding labels\n",
    "        :parma batch_size: minibatch size\n",
    "        :returns: (tuple) X_batch, y_batch\n",
    "        \"\"\"\n",
    "        m = X.shape[0]\n",
    "        start_index = np.random.randint(0, m - batch_size)\n",
    "        X_batch = X[start_index:(start_index + batch_size), :]\n",
    "        y_batch = y[start_index:(start_index + batch_size)]\n",
    "        \n",
    "        return X_batch, y_batch"
   ]
  },
  {
   "cell_type": "code",
   "execution_count": 7,
   "metadata": {
    "collapsed": true
   },
   "outputs": [],
   "source": [
    "logdir = 'tf_logs/summary7'\n",
    "iteration = 200\n",
    "batch_size = 128\n",
    "learning_rate = 0.01"
   ]
  },
  {
   "cell_type": "code",
   "execution_count": 8,
   "metadata": {
    "collapsed": true
   },
   "outputs": [],
   "source": [
    "# try use a function to create a layer\n",
    "# def create_conv(filters, input_layer):\n",
    "#     conv = tf.layers.conv2d(inputs=input_layer, filters=filters, kernel_size=3, strides=1, \n",
    "#                                     padding = 'SAME', activation = tf.nn.relu, name='conv')\n",
    "#     pool = tf.layers.max_pooling2d(inputs=conv1, pool_size=2, strides=2, padding='SAME', name='pool')\n",
    "#     return pool"
   ]
  },
  {
   "cell_type": "code",
   "execution_count": 9,
   "metadata": {
    "collapsed": true
   },
   "outputs": [],
   "source": [
    "def save_variable(var, name):\n",
    "    with tf.name_scope(name) as scope:\n",
    "        mean = tf.reduce_mean(var)\n",
    "        tf.summary.scalar('mean', mean)\n",
    "        stddev = tf.sqrt(tf.reduce_mean(var - mean))\n",
    "        tf.summary.scalar('stddev', stddev)\n",
    "        tf.summary.histogram('histgram', var)"
   ]
  },
  {
   "cell_type": "code",
   "execution_count": 10,
   "metadata": {},
   "outputs": [
    {
     "ename": "NameError",
     "evalue": "name 'sava_variable' is not defined",
     "output_type": "error",
     "traceback": [
      "\u001b[0;31m---------------------------------------------------------------------------\u001b[0m",
      "\u001b[0;31mNameError\u001b[0m                                 Traceback (most recent call last)",
      "\u001b[0;32m<ipython-input-10-d76bec663ac6>\u001b[0m in \u001b[0;36m<module>\u001b[0;34m()\u001b[0m\n\u001b[1;32m     59\u001b[0m         \u001b[0msave_variable\u001b[0m\u001b[0;34m(\u001b[0m\u001b[0mweight1\u001b[0m\u001b[0;34m,\u001b[0m\u001b[0;34m'weight1'\u001b[0m\u001b[0;34m)\u001b[0m\u001b[0;34m\u001b[0m\u001b[0m\n\u001b[1;32m     60\u001b[0m         \u001b[0msave_variable\u001b[0m\u001b[0;34m(\u001b[0m\u001b[0mweight2\u001b[0m\u001b[0;34m,\u001b[0m\u001b[0;34m'weight2'\u001b[0m\u001b[0;34m)\u001b[0m\u001b[0;34m\u001b[0m\u001b[0m\n\u001b[0;32m---> 61\u001b[0;31m         \u001b[0msava_variable\u001b[0m\u001b[0;34m(\u001b[0m\u001b[0mweight3\u001b[0m\u001b[0;34m,\u001b[0m\u001b[0;34m'weight3'\u001b[0m\u001b[0;34m)\u001b[0m\u001b[0;34m\u001b[0m\u001b[0m\n\u001b[0m\u001b[1;32m     62\u001b[0m         \u001b[0msave_variable\u001b[0m\u001b[0;34m(\u001b[0m\u001b[0mweight_logits\u001b[0m\u001b[0;34m,\u001b[0m\u001b[0;34m'weight_logits'\u001b[0m\u001b[0;34m)\u001b[0m\u001b[0;34m\u001b[0m\u001b[0m\n\u001b[1;32m     63\u001b[0m         \u001b[0mtf\u001b[0m\u001b[0;34m.\u001b[0m\u001b[0msummary\u001b[0m\u001b[0;34m.\u001b[0m\u001b[0mscalar\u001b[0m\u001b[0;34m(\u001b[0m\u001b[0;34m'loss'\u001b[0m\u001b[0;34m,\u001b[0m \u001b[0mloss\u001b[0m\u001b[0;34m)\u001b[0m\u001b[0;34m\u001b[0m\u001b[0m\n",
      "\u001b[0;31mNameError\u001b[0m: name 'sava_variable' is not defined"
     ]
    }
   ],
   "source": [
    "with tf.device('/gpu:0'):\n",
    "    with tf.name_scope('input') as scope:\n",
    "        X = tf.placeholder(tf.float32, shape = (None, 3072))\n",
    "        y = tf.placeholder(tf.int32, shape = (None))\n",
    "        dropout_rate = tf.placeholder(tf.float32, shape=())\n",
    "        training = tf.placeholder(tf.bool)\n",
    "        input_layer = tf.reshape(X, [-1, 32, 32, 3])\n",
    "\n",
    "    with tf.name_scope('conv1') as scope:\n",
    "        conv1 = tf.layers.conv2d(inputs=input_layer, filters=64, kernel_size=3, strides=1, \n",
    "                                padding = 'SAME', activation = tf.nn.relu, name='conv1')\n",
    "#         weight1 = tf.contrib.layers.flatten(tf.get_collection(tf.GraphKeys.TRAINABLE_VARIABLES, 'conv1'))\n",
    "        weight1 = tf.get_collection(tf.GraphKeys.TRAINABLE_VARIABLES, 'conv1')[0]\n",
    "        batch_norm1 = tf.layers.batch_normalization(conv1, axis = 1, name='batch_norm1')\n",
    "        pool1 = tf.layers.max_pooling2d(inputs=batch_norm1, pool_size=2, strides=2, padding='SAME', name='pool1')\n",
    "\n",
    "    with tf.name_scope('conv2') as scope:\n",
    "        conv2 = tf.layers.conv2d(inputs=pool1, filters=128, kernel_size=3, strides=1, \n",
    "                            padding = 'SAME', activation = tf.nn.relu, name='conv2')\n",
    "        weight2 = tf.get_collection(tf.GraphKeys.TRAINABLE_VARIABLES, 'conv2')[0]\n",
    "        batch_norm2 = tf.layers.batch_normalization(conv2, axis = 1, name='batch_norm2')\n",
    "        pool2 = tf.layers.max_pooling2d(inputs=batch_norm2, pool_size=2, strides=2, padding='SAME', name='pool2')\n",
    "        \n",
    "    with tf.name_scope('conv3') as scope:\n",
    "        conv3 = tf.layers.conv2d(inputs=pool2, filters=128, kernel_size=3, strides=1, \n",
    "                            padding = 'SAME', activation = tf.nn.relu, name='conv3')\n",
    "        weight3 = tf.get_collection(tf.GraphKeys.TRAINABLE_VARIABLES, 'conv3')[0]\n",
    "        batch_norm3 = tf.layers.batch_normalization(conv3, axis = 1, name='batch_norm3')\n",
    "        pool3 = tf.layers.max_pooling2d(inputs=conv3, pool_size=2, strides=2, padding='SAME', name='pool3')\n",
    "\n",
    "    with tf.name_scope('fc') as scope:\n",
    "        pool3_flat = tf.reshape(pool3, [-1, 4*4*128], name='pool3_flat')\n",
    "#         dropout1 = tf.layers.dropout(pool3_flat, rate=dropout_rate, training=training, name='dropout1')\n",
    "        dense1 = tf.layers.dense(pool3_flat, units = 8*128, activation = tf.nn.relu, name='dense1')\n",
    "        batch_norm4 = tf.layers.batch_normalization(dense1, axis = 1, name='batch_norm4')\n",
    "#         dropout2 = tf.layers.dropout(dense1, rate=dropout_rate, training=training, name='dropout2')\n",
    "        dense2 = tf.layers.dense(batch_norm4, units = 128, activation = tf.nn.relu, name='dense2')\n",
    "#         dropout3 = tf.layers.dropout(dense2, rate=dropout_rate, training=training, name='dropout3')\n",
    "        batch_norm5 = tf.layers.batch_normalization(dense2, axis = 1, name='batch_norm5')\n",
    "\n",
    "    with tf.name_scope('logits') as scope:\n",
    "        logits = tf.layers.dense(batch_norm5, units = 10, name='logits')\n",
    "        weight_logits = tf.get_collection(tf.GraphKeys.TRAINABLE_VARIABLES, 'logits')[0]\n",
    "\n",
    "    with tf.name_scope('loss') as scope:\n",
    "        softmax = tf.nn.sparse_softmax_cross_entropy_with_logits(labels=y, logits=logits, name = 'softmax')\n",
    "        loss = tf.reduce_mean(softmax) \n",
    "\n",
    "    with tf.name_scope('train') as scope:\n",
    "        optimizer = tf.train.GradientDescentOptimizer(learning_rate).minimize(loss)\n",
    "\n",
    "    with tf.name_scope('eval') as scope:\n",
    "        correct = tf.nn.in_top_k(logits, y, 1)\n",
    "        accuracy = tf.reduce_mean(tf.cast(correct, tf.float32))\n",
    "\n",
    "    \n",
    "        \n",
    "    with tf.name_scope('summary') as scope:\n",
    "        save_variable(weight1,'weight1')\n",
    "        save_variable(weight2,'weight2')\n",
    "        save_variable(weight3,'weight3')\n",
    "        save_variable(weight_logits,'weight_logits')\n",
    "        tf.summary.scalar('loss', loss)\n",
    "        tf.summary.scalar('accuracy', accuracy)\n",
    "        \n",
    "        merged = tf.summary.merge_all()\n",
    "        train_writer = tf.summary.FileWriter(logdir + '/train', tf.get_default_graph())\n",
    "        test_writer = tf.summary.FileWriter(logdir + '/test', tf.get_default_graph())\n",
    "\n",
    "    with tf.name_scope('init') as scope:\n",
    "        init = tf.global_variables_initializer()\n",
    "    "
   ]
  },
  {
   "cell_type": "code",
   "execution_count": null,
   "metadata": {},
   "outputs": [],
   "source": [
    "print(weight1)"
   ]
  },
  {
   "cell_type": "code",
   "execution_count": null,
   "metadata": {
    "collapsed": true
   },
   "outputs": [],
   "source": [
    "def train(X_train, y_train, X_validation, y_validation, iteration, X_test):\n",
    "\n",
    "    config = tf.ConfigProto()\n",
    "    config.allow_soft_placement = True\n",
    "    \n",
    "    with tf.Session(config=config) as sess:\n",
    "        sess.run(init)\n",
    "        for step in range(iteration):\n",
    "            X_batch, y_batch = get_batch(X_train, y_train, batch_size)\n",
    "            sess.run(optimizer, feed_dict={X: X_batch, y:y_batch, dropout_rate:0.3, training:True})\n",
    "                \n",
    "            if step % 100 == 0:\n",
    "                summary, loss_, acc = sess.run([merged, loss, accuracy],\n",
    "                                               feed_dict={X: X_validation, y:y_validation, dropout_rate:0.3, training:False})\n",
    "                test_writer.add_summary(summary, step)\n",
    "                print('###################################')\n",
    "                print('validation! after '+ str(step) + ' iterations' + \n",
    "                              ' the loss is ' + str(loss_) + ', the accuracy is ' + str(acc))\n",
    "                        \n",
    "                summary, loss_, acc = sess.run([merged, loss, accuracy], \n",
    "                                               feed_dict={X: X_batch, y:y_batch,dropout_rate:0.3, training:False})\n",
    "                train_writer.add_summary(summary, step)\n",
    "                        \n",
    "                print('training! after '+ str(step) + ' iterations' + \n",
    "                          ' the loss is ' + str(loss_) + ', the accuracy is ' + str(acc))\n",
    "            \n",
    "        y_labels = logits.eval(feed_dict={X: X_test, dropout_rate:0.3, training:False})\n",
    "    return y_labels.T"
   ]
  },
  {
   "cell_type": "code",
   "execution_count": null,
   "metadata": {},
   "outputs": [],
   "source": [
    "y_predicted = train(X_train, y_train, X_validation, y_validation, iteration, X_test)"
   ]
  },
  {
   "cell_type": "code",
   "execution_count": null,
   "metadata": {
    "collapsed": true
   },
   "outputs": [],
   "source": [
    "# save_predictions('ans1-yz3065', y_predicted)"
   ]
  },
  {
   "cell_type": "code",
   "execution_count": null,
   "metadata": {
    "collapsed": true
   },
   "outputs": [],
   "source": [
    "# test if your numpy file has been saved correctly\n",
    "loaded_y = np.load('ans1-yz3065.npy')\n",
    "print(loaded_y.shape)\n",
    "loaded_y[:10]"
   ]
  },
  {
   "cell_type": "code",
   "execution_count": null,
   "metadata": {
    "collapsed": true
   },
   "outputs": [],
   "source": []
  }
 ],
 "metadata": {
  "kernelspec": {
   "display_name": "Python 3",
   "language": "python",
   "name": "python3"
  },
  "language_info": {
   "codemirror_mode": {
    "name": "ipython",
    "version": 3
   },
   "file_extension": ".py",
   "mimetype": "text/x-python",
   "name": "python",
   "nbconvert_exporter": "python",
   "pygments_lexer": "ipython3",
   "version": "3.6.2"
  }
 },
 "nbformat": 4,
 "nbformat_minor": 2
}
