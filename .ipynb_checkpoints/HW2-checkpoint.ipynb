{
 "cells": [
  {
   "cell_type": "code",
   "execution_count": 1,
   "metadata": {
    "collapsed": true
   },
   "outputs": [],
   "source": [
    "import tensorflow as tf\n",
    "import numpy as np\n",
    "import glob\n",
    "import sys\n",
    "import scipy.misc\n",
    "from scipy import misc "
   ]
  },
  {
   "cell_type": "code",
   "execution_count": 3,
   "metadata": {
    "collapsed": true
   },
   "outputs": [],
   "source": [
    "## HELPERS\n",
    "\n",
    "# Functions to load data, DO NOT change these\n",
    "# Helper functions, DO NOT modify this\n",
    "\n",
    "def get_img_array(path):\n",
    "    \"\"\"\n",
    "    Given path of image, returns it's numpy array\n",
    "    \"\"\"\n",
    "    return misc.imread(path)\n",
    "\n",
    "def get_files(folder):\n",
    "    \"\"\"\n",
    "    Given path to folder, returns list of files in it\n",
    "    \"\"\"\n",
    "    filenames = [file for file in glob.glob(folder+'*/*')]\n",
    "    filenames.sort()\n",
    "    return filenames\n",
    "\n",
    "def get_label(filepath, label2id):\n",
    "    \"\"\"\n",
    "    Files are assumed to be labeled as: /path/to/file/999_frog.png\n",
    "    Returns label for a filepath\n",
    "    \"\"\"\n",
    "    tokens = filepath.split('/')\n",
    "    label = tokens[-1].split('_')[1][:-4]\n",
    "    if label in label2id:\n",
    "        return label2id[label]\n",
    "    else:\n",
    "        sys.exit(\"Invalid label: \" + label)\n",
    "        \n",
    "def get_labels(folder, label2id):\n",
    "    \"\"\"\n",
    "    Returns vector of labels extracted from filenames of all files in folder\n",
    "    :param folder: path to data folder\n",
    "    :param label2id: mapping of text labels to numeric ids. (Eg: automobile -> 0)\n",
    "    \"\"\"\n",
    "    files = get_files(folder)\n",
    "    y = []\n",
    "    for f in files:\n",
    "        y.append(get_label(f,label2id))\n",
    "    return np.array(y)\n",
    "\n",
    "def one_hot(y, num_classes=10):\n",
    "    \"\"\"\n",
    "    Converts each label index in y to vector with one_hot encoding\n",
    "    \"\"\"\n",
    "    y_one_hot = np.zeros((y.shape[0], num_classes))\n",
    "    y_one_hot[y] = 1\n",
    "    return y_one_hot.T\n",
    "\n",
    "def get_label_mapping(label_file):\n",
    "    \"\"\"\n",
    "    Returns mappings of label to index and index to label\n",
    "    The input file has list of labels, each on a separate line.\n",
    "    \"\"\"\n",
    "    with open(label_file, 'r') as f:\n",
    "        id2label = f.readlines()\n",
    "        id2label = [l.strip() for l in id2label]\n",
    "    label2id = {}\n",
    "    count = 0\n",
    "    for label in id2label:\n",
    "        label2id[label] = count\n",
    "        count += 1\n",
    "    return id2label, label2id\n",
    "\n",
    "def get_images(folder):\n",
    "    \"\"\"\n",
    "    returns numpy array of all samples in folder\n",
    "    each column is a sample resized to 30x30 and flattened\n",
    "    \"\"\"\n",
    "    files = get_files(folder)\n",
    "    images = []\n",
    "    count = 0\n",
    "    \n",
    "    for f in files:\n",
    "        count += 1\n",
    "        if count % 10000 == 0:\n",
    "            print(\"Loaded {}/{}\".format(count,len(files)))\n",
    "        img_arr = get_img_array(f)\n",
    "        img_arr = img_arr.flatten() / 255.0\n",
    "        images.append(img_arr)\n",
    "    X = np.column_stack(images)\n",
    "\n",
    "    return X\n",
    "\n",
    "def get_train_data(data_root_path):\n",
    "    \"\"\"\n",
    "    Return X and y\n",
    "    \"\"\"\n",
    "    train_data_path = data_root_path + 'train'\n",
    "    id2label, label2id = get_label_mapping(data_root_path+'labels.txt')\n",
    "    print(label2id)\n",
    "    X = get_images(train_data_path)\n",
    "    y = get_labels(train_data_path, label2id)\n",
    "    return X, y\n",
    "\n",
    "def save_predictions(filename, y):\n",
    "    \"\"\"\n",
    "    Dumps y into .npy file\n",
    "    \"\"\"\n",
    "    np.save(filename, y)"
   ]
  },
  {
   "cell_type": "code",
   "execution_count": 4,
   "metadata": {},
   "outputs": [
    {
     "name": "stdout",
     "output_type": "stream",
     "text": [
      "{'deer': 4, 'truck': 9, 'cat': 3, 'dog': 5, 'airplane': 0, 'bird': 2, 'horse': 7, 'frog': 6, 'ship': 8, 'automobile': 1}\n",
      "Loaded 10000/50000\n",
      "Loaded 20000/50000\n",
      "Loaded 30000/50000\n",
      "Loaded 40000/50000\n",
      "Loaded 50000/50000\n",
      "Loaded 10000/10000\n",
      "Data loading done\n"
     ]
    }
   ],
   "source": [
    "\n",
    "# Load the data\n",
    "data_root_path = '/home/ec2-user/Neural_Network/cifar10-hw1/'\n",
    "X_train, y_train = get_train_data(data_root_path)\n",
    "X_train = X_train.astype(np.float32)\n",
    "# this may take a few minutes\n",
    "X_test = get_images(data_root_path + 'test')\n",
    "print('Data loading done')\n",
    "indexs = np.random.choice(50000, 5000, replace=False)\n",
    "X_validation = X_train[:,indexs]\n",
    "y_validation = y_train[indexs]\n",
    "X_train = np.delete(X_train,indexs, axis = 1)\n",
    "y_train = np.delete(y_train,indexs)\n",
    "\n"
   ]
  },
  {
   "cell_type": "code",
   "execution_count": null,
   "metadata": {
    "collapsed": true
   },
   "outputs": [],
   "source": [
    "def cnn_model(features, labels, mode):\n",
    "    LEARNING_RATE = 0.001\n",
    "    DROPOUT = 0.3\n",
    "    \n",
    "    with tf.device('/gpu:0'):\n",
    "        input_layer = tf.reshape(features['x'], [-1, 32, 32, 3])\n",
    "        conv1 = tf.layers.conv2d(inputs= input_layer, filters = 64, kernel_size = 3, padding= \"same\", activation = tf.nn.relu)\n",
    "        pool1=  tf.layers.max_pooling2d(inputs = conv1, pool_size = 2, strides = 2) # cuts size in 2\n",
    "        conv2 = tf.layers.conv2d(inputs = pool1, filters = 128, kernel_size = 3, padding= \"same\", activation = tf.nn.relu)\n",
    "        pool2 = tf.layers.max_pooling2d(inputs = conv2, pool_size = 2, strides = 2) # cuts size in 2\n",
    "\n",
    "        conv3 = tf.layers.conv2d(inputs=pool2, filters=128, kernel_size=3, strides=1, \n",
    "                                padding = 'SAME', activation = tf.nn.relu, name='conv3')\n",
    "        pool3 = tf.layers.max_pooling2d(inputs=conv3, pool_size=2, strides=2, padding='SAME', name='pool3')\n",
    "        pool3_flat = tf.reshape(pool3, [-1, 4*4*128], name='pool3_flat')\n",
    "        dropout1 = tf.layers.dropout(pool3_flat, rate=DROPOUT, training=(mode == tf.estimator.ModeKeys.TRAIN), name='dropout1')\n",
    "        dense1 = tf.layers.dense(dropout1, units = 8*128, activation = tf.nn.relu, name='dense1')\n",
    "        dropout2 = tf.layers.dropout(dense1, rate=DROPOUT, training=(mode == tf.estimator.ModeKeys.TRAIN), name='dropout2')\n",
    "        dense2 = tf.layers.dense(dropout2, units = 128, activation = tf.nn.relu, name='dense2')\n",
    "        dropout3 = tf.layers.dropout(dense2, rate=DROPOUT, training=(mode == tf.estimator.ModeKeys.TRAIN), name='dropout3')\n",
    "\n",
    "            ## Note: Replace hardcoding in next line with shape of pool2 (minus the batch size)\n",
    "    #         pool2_flat = tf.reshape(pool2, [-1, 8 * 8 * 128])\n",
    "    #         dense = tf.layers.dense(inputs = pool2_flat, units = 1024, activation = tf.nn.relu)\n",
    "    #         dropout = tf.layers.dropout(inputs = dense, rate = DROPOUT, training =(mode == tf.estimator.ModeKeys.TRAIN) )\n",
    "        logits = tf.layers.dense(inputs = dropout3, units = 10)\n",
    "        predictions = { \"classes\": tf.argmax(input = logits, axis = 1),\n",
    "                            \"probabilities\": tf.nn.softmax(logits, name = \"smt\")\n",
    "                          }\n",
    "        onehot_labels = tf.one_hot( indices = tf.cast(labels, tf.int32), depth=10 )\n",
    "        loss = tf.losses.softmax_cross_entropy( onehot_labels= onehot_labels, logits= logits)\n",
    "        tf.summary.scalar('loss', loss)\n",
    "        \n",
    "#         summary_hook = tf.train.SummarySaverHook(\n",
    "#             100,\n",
    "#             output_dir='tf_logs/summary8',\n",
    "#             summary_op=tf.summary.merge_all())\n",
    "        \n",
    "        if mode == tf.estimator.ModeKeys.TRAIN:\n",
    "            optimizer = tf.train.AdamOptimizer(learning_rate= LEARNING_RATE)\n",
    "            train_op = optimizer.minimize(loss = loss, global_step = tf.train.get_global_step())\n",
    "            return tf.estimator.EstimatorSpec(mode = mode, loss = loss, train_op = train_op)\n",
    "        if mode == tf.estimator.ModeKeys.EVAL:\n",
    "            eval_metric_ops = {\"accuracy\": tf.metrics.accuracy( labels = labels, predictions = predictions[\"classes\"])}\n",
    "            return tf.estimator.EstimatorSpec(mode = mode, loss = loss, eval_metric_ops = eval_metric_ops)\n",
    "        else:\n",
    "            eval_metric_ops = {\"accuracy\": tf.metrics.accuracy( labels = labels, predictions = predictions[\"classes\"])}\n",
    "            return tf.estimator.EstimatorSpec(mode = mode, loss = loss, eval_metric_ops = eval_metric_ops)\n"
   ]
  },
  {
   "cell_type": "code",
   "execution_count": 14,
   "metadata": {
    "scrolled": false
   },
   "outputs": [
    {
     "name": "stdout",
     "output_type": "stream",
     "text": [
      "Extracting MNIST-data/train-images-idx3-ubyte.gz\n",
      "Extracting MNIST-data/train-labels-idx1-ubyte.gz\n",
      "Extracting MNIST-data/t10k-images-idx3-ubyte.gz\n",
      "Extracting MNIST-data/t10k-labels-idx1-ubyte.gz\n",
      "Train data shape:  (45000, 3072)\n",
      "Train labels shape:  (45000,)\n",
      "Evals data shape:  (5000, 3072)\n",
      "Evals labels shape:  (5000,)\n",
      "INFO:tensorflow:Using default config.\n",
      "WARNING:tensorflow:Using temporary folder as model directory: /tmp/tmpk2tybsgc\n",
      "INFO:tensorflow:Using config: {'_save_checkpoints_steps': None, '_keep_checkpoint_max': 5, '_keep_checkpoint_every_n_hours': 10000, '_model_dir': '/tmp/tmpk2tybsgc', '_save_checkpoints_secs': 600, '_save_summary_steps': 100, '_tf_random_seed': 1, '_session_config': None, '_log_step_count_steps': 100}\n"
     ]
    },
    {
     "ename": "NameError",
     "evalue": "name 'summary_hook' is not defined",
     "output_type": "error",
     "traceback": [
      "\u001b[0;31m---------------------------------------------------------------------------\u001b[0m",
      "\u001b[0;31mNameError\u001b[0m                                 Traceback (most recent call last)",
      "\u001b[0;32m<ipython-input-14-1e308d24730d>\u001b[0m in \u001b[0;36m<module>\u001b[0;34m()\u001b[0m\n\u001b[1;32m     38\u001b[0m \u001b[0;34m\u001b[0m\u001b[0m\n\u001b[1;32m     39\u001b[0m \u001b[0mtrain_input_fn\u001b[0m \u001b[0;34m=\u001b[0m \u001b[0mtf\u001b[0m\u001b[0;34m.\u001b[0m\u001b[0mestimator\u001b[0m\u001b[0;34m.\u001b[0m\u001b[0minputs\u001b[0m\u001b[0;34m.\u001b[0m\u001b[0mnumpy_input_fn\u001b[0m\u001b[0;34m(\u001b[0m \u001b[0mx\u001b[0m \u001b[0;34m=\u001b[0m \u001b[0;34m{\u001b[0m\u001b[0;34m\"x\"\u001b[0m\u001b[0;34m:\u001b[0m \u001b[0mtrain_data\u001b[0m\u001b[0;34m}\u001b[0m\u001b[0;34m,\u001b[0m \u001b[0my\u001b[0m \u001b[0;34m=\u001b[0m \u001b[0mtrain_labels\u001b[0m\u001b[0;34m,\u001b[0m \u001b[0mbatch_size\u001b[0m \u001b[0;34m=\u001b[0m \u001b[0;36m128\u001b[0m\u001b[0;34m,\u001b[0m \u001b[0mnum_epochs\u001b[0m \u001b[0;34m=\u001b[0m \u001b[0;32mNone\u001b[0m\u001b[0;34m,\u001b[0m \u001b[0mshuffle\u001b[0m \u001b[0;34m=\u001b[0m \u001b[0;32mTrue\u001b[0m\u001b[0;34m)\u001b[0m\u001b[0;34m\u001b[0m\u001b[0m\n\u001b[0;32m---> 40\u001b[0;31m \u001b[0mmnist_classifier\u001b[0m\u001b[0;34m.\u001b[0m\u001b[0mtrain\u001b[0m\u001b[0;34m(\u001b[0m\u001b[0minput_fn\u001b[0m \u001b[0;34m=\u001b[0m \u001b[0mtrain_input_fn\u001b[0m\u001b[0;34m,\u001b[0m \u001b[0msteps\u001b[0m \u001b[0;34m=\u001b[0m \u001b[0;36m20000\u001b[0m\u001b[0;34m,\u001b[0m \u001b[0mhooks\u001b[0m \u001b[0;34m=\u001b[0m \u001b[0;34m[\u001b[0m\u001b[0msummary_hook\u001b[0m\u001b[0;34m]\u001b[0m\u001b[0;34m)\u001b[0m\u001b[0;34m\u001b[0m\u001b[0m\n\u001b[0m",
      "\u001b[0;31mNameError\u001b[0m: name 'summary_hook' is not defined"
     ]
    }
   ],
   "source": [
    "# def main(unused_argv):\n",
    "\n",
    "#Set hyperparameters\n",
    "LEARNING_RATE = 0.0001\n",
    "DROPOUT_RATE = 0.3\n",
    "\n",
    "# mnist = tf.contrib.learn.datasets.load_dataset(\"mnist\")\n",
    "\n",
    "original_train_data = X_train.T\n",
    "original_train_labels = np.array(y_train, dtype = np.int32)\n",
    "# train_data = original_train_data[0:int((original_train_data.shape[0] * 0.8))]\n",
    "# train_labels = original_train_labels[0:int((original_train_data.shape[0] * 0.8))]\n",
    "\n",
    "# eval_data = original_train_data[int((original_train_data.shape[0] * 0.8)):int(original_train_data.shape[0])]\n",
    "# eval_labels =  original_train_labels[int((original_train_data.shape[0] * 0.8)):int(original_train_data.shape[0])]\n",
    "\n",
    "train_data = original_train_data\n",
    "train_labels = y_train\n",
    "eval_data = X_validation.T\n",
    "eval_labels = y_validation\n",
    "\n",
    "print(\"Train data shape: \", train_data.shape)\n",
    "print(\"Train labels shape: \", train_labels.shape)\n",
    "print(\"Evals data shape: \", eval_data.shape)\n",
    "print(\"Evals labels shape: \", eval_labels.shape)\n",
    "\n",
    "#estimator\n",
    "mnist_classifier = tf.estimator.Estimator(model_fn = cnn_model, )\n",
    "\n",
    "# summary_hook = tf.train.SummarySaverHook(\n",
    "#             100,\n",
    "#             output_dir='tf_logs/summary8',\n",
    "#             summary_op=tf.summary.merge_all())\n",
    "\n",
    "#log\n",
    "tensor_to_log = {\"probabilities\": \"smt\"}\n",
    "logging_hook = tf.train.LoggingTensorHook(tensors = tensor_to_log, every_n_iter = 50)\n",
    "\n",
    "train_input_fn = tf.estimator.inputs.numpy_input_fn( x = {\"x\": train_data}, y = train_labels, batch_size = 128, num_epochs = None, shuffle = True)\n",
    "mnist_classifier.train(input_fn = train_input_fn, steps = 20000, hooks = [summary_hook])"
   ]
  },
  {
   "cell_type": "code",
   "execution_count": 6,
   "metadata": {},
   "outputs": [
    {
     "name": "stdout",
     "output_type": "stream",
     "text": [
      "INFO:tensorflow:Starting evaluation at 2017-10-26-19:00:29\n",
      "INFO:tensorflow:Restoring parameters from /tmp/tmp_jq0ctmu/model.ckpt-20000\n",
      "INFO:tensorflow:Finished evaluation at 2017-10-26-19:00:30\n",
      "INFO:tensorflow:Saving dict for global step 20000: accuracy = 0.7928, global_step = 20000, loss = 0.854671\n",
      "{'accuracy': 0.79280001, 'loss': 0.85467118, 'global_step': 20000}\n"
     ]
    }
   ],
   "source": [
    "eval_input_fn = tf.estimator.inputs.numpy_input_fn( x = {\"x\": eval_data}, y = eval_labels, num_epochs = 1, shuffle = False)\n",
    "eval_results = mnist_classifier.evaluate(input_fn = eval_input_fn)\n",
    "print(eval_results)"
   ]
  },
  {
   "cell_type": "code",
   "execution_count": null,
   "metadata": {
    "collapsed": true
   },
   "outputs": [],
   "source": []
  }
 ],
 "metadata": {
  "kernelspec": {
   "display_name": "Python 3",
   "language": "python",
   "name": "python3"
  },
  "language_info": {
   "codemirror_mode": {
    "name": "ipython",
    "version": 3
   },
   "file_extension": ".py",
   "mimetype": "text/x-python",
   "name": "python",
   "nbconvert_exporter": "python",
   "pygments_lexer": "ipython3",
   "version": "3.4.3"
  }
 },
 "nbformat": 4,
 "nbformat_minor": 2
}
