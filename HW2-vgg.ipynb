{
 "cells": [
  {
   "cell_type": "code",
   "execution_count": 1,
   "metadata": {
    "collapsed": true
   },
   "outputs": [],
   "source": [
    "%matplotlib inline\n",
    "import matplotlib.pyplot as plt\n",
    "import numpy as np\n",
    "import scipy.misc\n",
    "import glob\n",
    "import sys\n",
    "import tensorflow as tf\n",
    "from datetime import datetime"
   ]
  },
  {
   "cell_type": "code",
   "execution_count": 2,
   "metadata": {
    "collapsed": true
   },
   "outputs": [],
   "source": [
    "# Helper functions, DO NOT modify this\n",
    "\n",
    "def get_img_array(path):\n",
    "    \"\"\"\n",
    "    Given path of image, returns it's numpy array\n",
    "    \"\"\"\n",
    "    return scipy.misc.imread(path)\n",
    "\n",
    "def get_files(folder):\n",
    "    \"\"\"\n",
    "    Given path to folder, returns list of files in it\n",
    "    \"\"\"\n",
    "    filenames = [file for file in glob.glob(folder+'*/*')]\n",
    "    filenames.sort()\n",
    "    return filenames\n",
    "\n",
    "def get_label(filepath, label2id):\n",
    "    \"\"\"\n",
    "    Files are assumed to be labeled as: /path/to/file/999_frog.png\n",
    "    Returns label for a filepath\n",
    "    \"\"\"\n",
    "    tokens = filepath.split('/')\n",
    "    label = tokens[-1].split('_')[1][:-4]\n",
    "    if label in label2id:\n",
    "        return label2id[label]\n",
    "    else:\n",
    "        sys.exit(\"Invalid label: \" + label)"
   ]
  },
  {
   "cell_type": "code",
   "execution_count": 3,
   "metadata": {
    "collapsed": true
   },
   "outputs": [],
   "source": [
    "# Functions to load data, DO NOT change these\n",
    "\n",
    "def get_labels(folder, label2id):\n",
    "    \"\"\"\n",
    "    Returns vector of labels extracted from filenames of all files in folder\n",
    "    :param folder: path to data folder\n",
    "    :param label2id: mapping of text labels to numeric ids. (Eg: automobile -> 0)\n",
    "    \"\"\"\n",
    "    files = get_files(folder)\n",
    "    y = []\n",
    "    for f in files:\n",
    "        y.append(get_label(f,label2id))\n",
    "    return np.array(y)\n",
    "\n",
    "def one_hot(y, num_classes=10):\n",
    "    \"\"\"\n",
    "    Converts each label index in y to vector with one_hot encoding\n",
    "    \"\"\"\n",
    "    y_one_hot = np.zeros((y.shape[0], num_classes))\n",
    "    y_one_hot[y] = 1\n",
    "    return y_one_hot.T\n",
    "\n",
    "def get_label_mapping(label_file):\n",
    "    \"\"\"\n",
    "    Returns mappings of label to index and index to label\n",
    "    The input file has list of labels, each on a separate line.\n",
    "    \"\"\"\n",
    "    with open(label_file, 'r') as f:\n",
    "        id2label = f.readlines()\n",
    "        id2label = [l.strip() for l in id2label]\n",
    "    label2id = {}\n",
    "    count = 0\n",
    "    for label in id2label:\n",
    "        label2id[label] = count\n",
    "        count += 1\n",
    "    return id2label, label2id\n",
    "\n",
    "def get_images(folder):\n",
    "    \"\"\"\n",
    "    returns numpy array of all samples in folder\n",
    "    each column is a sample resized to 30x30 and flattened\n",
    "    \"\"\"\n",
    "    files = get_files(folder)\n",
    "    images = []\n",
    "    count = 0\n",
    "    \n",
    "    for f in files:\n",
    "        count += 1\n",
    "        if count % 10000 == 0:\n",
    "            print(\"Loaded {}/{}\".format(count,len(files)))\n",
    "        img_arr = get_img_array(f)\n",
    "        img_arr = img_arr.flatten() / 255.0\n",
    "        images.append(img_arr)\n",
    "    X = np.column_stack(images)\n",
    "\n",
    "    return X\n",
    "\n",
    "def get_train_data(data_root_path):\n",
    "    \"\"\"\n",
    "    Return X and y\n",
    "    \"\"\"\n",
    "    train_data_path = data_root_path + 'train'\n",
    "    id2label, label2id = get_label_mapping(data_root_path+'labels.txt')\n",
    "    print(label2id)\n",
    "    X = get_images(train_data_path)\n",
    "    y = get_labels(train_data_path, label2id)\n",
    "    return X, y\n",
    "\n",
    "def save_predictions(filename, y):\n",
    "    \"\"\"\n",
    "    Dumps y into .npy file\n",
    "    \"\"\"\n",
    "    np.save(filename, y)# Load the data"
   ]
  },
  {
   "cell_type": "code",
   "execution_count": 4,
   "metadata": {
    "scrolled": true
   },
   "outputs": [
    {
     "name": "stdout",
     "output_type": "stream",
     "text": [
      "{'ship': 8, 'dog': 5, 'frog': 6, 'airplane': 0, 'deer': 4, 'automobile': 1, 'cat': 3, 'truck': 9, 'bird': 2, 'horse': 7}\n",
      "Loaded 10000/50000\n",
      "Loaded 20000/50000\n",
      "Loaded 30000/50000\n",
      "Loaded 40000/50000\n",
      "Loaded 50000/50000\n",
      "Loaded 10000/10000\n",
      "Data loading done\n"
     ]
    }
   ],
   "source": [
    "# Load the data\n",
    "data_root_path = '/home/ec2-user/Neural_Network/Neural_Network/cifar10-hw1/'\n",
    "X_train, y_train = get_train_data(data_root_path) # this may take a few minutes\n",
    "X_test = get_images(data_root_path + 'test').T\n",
    "\n",
    "print('Data loading done')\n",
    "indexs = np.random.choice(50000, 5000, replace=False)\n",
    "X_validation = X_train[:,indexs].T\n",
    "y_validation = y_train[indexs]\n",
    "X_train = np.delete(X_train,indexs, axis = 1).T\n",
    "y_train = np.delete(y_train,indexs)"
   ]
  },
  {
   "cell_type": "code",
   "execution_count": 5,
   "metadata": {},
   "outputs": [
    {
     "name": "stdout",
     "output_type": "stream",
     "text": [
      "(5000, 3072)\n",
      "(10000, 3072)\n",
      "[14623 44551 37080 ...,   631 42214 36580]\n"
     ]
    }
   ],
   "source": [
    "print(X_validation.shape)\n",
    "print(X_test.shape)\n",
    "arr = np.arange(X_train.shape[0])\n",
    "np.random.shuffle(arr)\n",
    "print(arr)"
   ]
  },
  {
   "cell_type": "code",
   "execution_count": 6,
   "metadata": {
    "collapsed": true
   },
   "outputs": [],
   "source": [
    "def get_batch(X, y, batch_size):\n",
    "        \"\"\"\n",
    "        Return minibatch of samples and labels\n",
    "        \n",
    "        :param X, y: samples and corresponding labels\n",
    "        :parma batch_size: minibatch size\n",
    "        :returns: (tuple) X_batch, y_batch\n",
    "        \"\"\"\n",
    "        m = X.shape[0]\n",
    "        start_index = np.random.randint(0, m - batch_size)\n",
    "        X_batch = X[start_index:(start_index + batch_size), :]\n",
    "        y_batch = y[start_index:(start_index + batch_size)]\n",
    "        \n",
    "        return X_batch, y_batch"
   ]
  },
  {
   "cell_type": "code",
   "execution_count": 11,
   "metadata": {
    "collapsed": true
   },
   "outputs": [],
   "source": [
    "logdir = 'tf_logs/summary_vgg'\n",
    "iteration = 300\n",
    "batch_size = 128\n",
    "learning_rate = 0.01"
   ]
  },
  {
   "cell_type": "code",
   "execution_count": 8,
   "metadata": {
    "collapsed": true
   },
   "outputs": [],
   "source": [
    "# try use a function to create a layer\n",
    "# def create_conv(filters, input_layer):\n",
    "#     conv = tf.layers.conv2d(inputs=input_layer, filters=filters, kernel_size=3, strides=1, \n",
    "#                                     padding = 'SAME', activation = tf.nn.relu, name='conv')\n",
    "#     pool = tf.layers.max_pooling2d(inputs=conv1, pool_size=2, strides=2, padding='SAME', name='pool')\n",
    "#     return pool"
   ]
  },
  {
   "cell_type": "code",
   "execution_count": 9,
   "metadata": {
    "collapsed": true
   },
   "outputs": [],
   "source": [
    "with tf.device('/gpu:0'):\n",
    "    \n",
    "    regularizer = tf.contrib.layers.l2_regularizer(scale=0.1)\n",
    "    with tf.name_scope('input') as scope:\n",
    "        X = tf.placeholder(tf.float32, shape = (None, 3072))\n",
    "        y = tf.placeholder(tf.int32, shape = (None))\n",
    "#         dropout_rate = tf.placeholder(tf.float32, shape=())\n",
    "        training = tf.placeholder(tf.bool)\n",
    "        input_layer = tf.reshape(X, [-1, 32, 32, 3])\n",
    "\n",
    "    with tf.name_scope('conv1') as scope:\n",
    "        conv1 = tf.layers.conv2d(inputs=input_layer, filters=64, kernel_size=3, strides=1, \n",
    "                                 padding = 'SAME', activation = tf.nn.relu, name='conv1',\n",
    "                                 kernel_regularizer = regularizer)\n",
    "        batch_norm1 = tf.layers.batch_normalization(conv1, axis = 1, name='batch_norm1')\n",
    "#         pool1 = tf.layers.max_pooling2d(inputs=batch_norm1, pool_size=2, strides=2, padding='SAME', name='pool1')\n",
    "        dropout1 = tf.layers.dropout(batch_norm1, rate=0.3, training=training, name='dropout1')\n",
    "\n",
    "\n",
    "    with tf.name_scope('conv2') as scope:\n",
    "        conv2 = tf.layers.conv2d(inputs=dropout1, filters=64, kernel_size=3, strides=1, \n",
    "                                padding = 'SAME', activation = tf.nn.relu, name='conv2',\n",
    "                                kernel_regularizer = regularizer)\n",
    "        batch_norm2 = tf.layers.batch_normalization(conv2, axis = 1, name='batch_norm2')\n",
    "        pool2 = tf.layers.max_pooling2d(inputs=batch_norm2, pool_size=2, strides=2, padding='SAME', name='pool2')\n",
    "        \n",
    "    with tf.name_scope('conv3') as scope:\n",
    "        conv3 = tf.layers.conv2d(inputs=pool2, filters=128, kernel_size=3, strides=1, \n",
    "                                padding = 'SAME', activation = tf.nn.relu, name='conv3',\n",
    "                                kernel_regularizer = regularizer)\n",
    "        batch_norm3 = tf.layers.batch_normalization(conv3, axis = 1, name='batch_norm3')\n",
    "        dropout3 = tf.layers.dropout(batch_norm3, rate=0.4, training=training, name='dropout3')\n",
    "\n",
    "#         pool3 = tf.layers.max_pooling2d(inputs=conv3, pool_size=2, strides=2, padding='SAME', name='pool3')\n",
    "        \n",
    "    with tf.name_scope('conv4') as scope:\n",
    "        conv4 = tf.layers.conv2d(inputs=dropout3, filters=128, kernel_size=3, strides=1, \n",
    "                                padding = 'SAME', activation = tf.nn.relu, name='conv4',\n",
    "                                kernel_regularizer = regularizer)\n",
    "        batch_norm4 = tf.layers.batch_normalization(conv4, axis = 1, name='batch_norm4')\n",
    "        pool4 = tf.layers.max_pooling2d(inputs=batch_norm4, pool_size=2, strides=2, padding='SAME', name='pool4')\n",
    "\n",
    "    with tf.name_scope('conv5') as scope:\n",
    "        conv5 = tf.layers.conv2d(inputs=pool4, filters=256, kernel_size=3, strides=1, \n",
    "                                padding = 'SAME', activation = tf.nn.relu, name='conv5',\n",
    "                                kernel_regularizer = regularizer)\n",
    "        batch_norm5 = tf.layers.batch_normalization(conv5, axis = 1, name='batch_norm5')\n",
    "        dropout5 = tf.layers.dropout(batch_norm5, rate=0.4, training=training, name='dropout5')\n",
    "        \n",
    "    with tf.name_scope('conv6') as scope:\n",
    "        conv6 = tf.layers.conv2d(inputs=dropout5, filters=256, kernel_size=3, strides=1, \n",
    "                                padding = 'SAME', activation = tf.nn.relu, name='conv6',\n",
    "                                kernel_regularizer = regularizer)\n",
    "        batch_norm6 = tf.layers.batch_normalization(conv6, axis = 1, name='batch_norm6')\n",
    "        dropout6 = tf.layers.dropout(batch_norm6, rate=0.4, training=training, name='dropout6')\n",
    "        \n",
    "    with tf.name_scope('conv7') as scope:\n",
    "        conv7 = tf.layers.conv2d(inputs=dropout6, filters=256, kernel_size=3, strides=1, \n",
    "                                padding = 'SAME', activation = tf.nn.relu, name='conv7',\n",
    "                                kernel_regularizer = regularizer)\n",
    "        batch_norm7 = tf.layers.batch_normalization(conv7, axis = 1, name='batch_norm7')\n",
    "        pool7 = tf.layers.max_pooling2d(inputs=batch_norm7, pool_size=2, strides=2, padding='SAME', name='pool7')\n",
    "        \n",
    "    with tf.name_scope('conv8') as scope:\n",
    "        conv8 = tf.layers.conv2d(inputs=pool7, filters=512, kernel_size=3, strides=1, \n",
    "                                padding = 'SAME', activation = tf.nn.relu, name='conv8',\n",
    "                                kernel_regularizer = regularizer)\n",
    "        batch_norm8 = tf.layers.batch_normalization(conv8, axis = 1, name='batch_norm8')\n",
    "        dropout8 = tf.layers.dropout(batch_norm8, rate=0.4, training=training, name='dropout8')\n",
    "        \n",
    "    with tf.name_scope('conv9') as scope:\n",
    "        conv9 = tf.layers.conv2d(inputs=dropout8, filters=512, kernel_size=3, strides=1, \n",
    "                                padding = 'SAME', activation = tf.nn.relu, name='conv9',\n",
    "                                kernel_regularizer = regularizer)\n",
    "        batch_norm9 = tf.layers.batch_normalization(conv9, axis = 1, name='batch_norm9')\n",
    "        dropout9 = tf.layers.dropout(batch_norm9, rate=0.4, training=training, name='dropout9')\n",
    "        \n",
    "    with tf.name_scope('conv10') as scope:\n",
    "        conv10 = tf.layers.conv2d(inputs=dropout9, filters=512, kernel_size=3, strides=1, \n",
    "                                padding = 'SAME', activation = tf.nn.relu, name='conv10',\n",
    "                                kernel_regularizer = regularizer)\n",
    "        batch_norm10 = tf.layers.batch_normalization(conv10, axis = 1, name='batch_norm10')\n",
    "        pool10 = tf.layers.max_pooling2d(inputs=batch_norm10, pool_size=2, strides=2, padding='SAME', name='pool10')\n",
    "\n",
    "    with tf.name_scope('conv11') as scope:\n",
    "        conv11 = tf.layers.conv2d(inputs=pool10, filters=512, kernel_size=3, strides=1, \n",
    "                                padding = 'SAME', activation = tf.nn.relu, name='conv11',\n",
    "                                kernel_regularizer = regularizer)\n",
    "        batch_norm11 = tf.layers.batch_normalization(conv11, axis = 1, name='batch_norm11')\n",
    "        dropout11 = tf.layers.dropout(batch_norm11, rate=0.4, training=training, name='dropout11')\n",
    "        \n",
    "    with tf.name_scope('conv12') as scope:\n",
    "        conv12 = tf.layers.conv2d(inputs=dropout11, filters=512, kernel_size=3, strides=1, \n",
    "                                padding = 'SAME', activation = tf.nn.relu, name='conv12',\n",
    "                                kernel_regularizer = regularizer)\n",
    "        batch_norm12 = tf.layers.batch_normalization(conv12, axis = 1, name='batch_norm12')\n",
    "        dropout12 = tf.layers.dropout(batch_norm12, rate=0.4, training=training, name='dropout12')\n",
    "        \n",
    "    with tf.name_scope('conv13') as scope:\n",
    "        conv13 = tf.layers.conv2d(inputs=dropout12, filters=512, kernel_size=3, strides=1, \n",
    "                                padding = 'SAME', activation = tf.nn.relu, name='conv13',\n",
    "                                kernel_regularizer = regularizer)\n",
    "        batch_norm13 = tf.layers.batch_normalization(conv13, axis = 1, name='batch_norm13')\n",
    "        pool13 = tf.layers.max_pooling2d(inputs=batch_norm13, pool_size=2, strides=2, padding='SAME', name='pool13')\n",
    "        \n",
    "        dropout13 = tf.layers.dropout(pool13, rate=0.5, training=training, name='dropout13')\n",
    "    \n",
    "    \n",
    "        \n",
    "    with tf.name_scope('fc14') as scope:\n",
    "        pool13_flat = tf.reshape(dropout13, [-1, 512], name='pool13_flat')\n",
    "#         dropout1 = tf.layers.dropout(pool3_flat, rate=dropout_rate, training=training, name='dropout1')\n",
    "#         dense1 = tf.layers.dense(pool3_flat, units = 8*128, activation = tf.nn.relu, name='dense1')\n",
    "#         batch_norm4 = tf.layers.batch_normalization(dense1, axis = 1, name='batch_norm4')\n",
    "#         dropout2 = tf.layers.dropout(dense1, rate=dropout_rate, training=training, name='dropout2')\n",
    "        dense14 = tf.layers.dense(pool13_flat, units = 512, activation = tf.nn.relu, name='dense14',\n",
    "                                 kernel_regularizer = regularizer)\n",
    "#         dropout3 = tf.layers.dropout(dense2, rate=dropout_rate, training=training, name='dropout3')\n",
    "        batch_norm14 = tf.layers.batch_normalization(dense14, axis = 1, name='batch_norm14')\n",
    "        dropout14 = tf.layers.dropout(batch_norm14, rate=0.5, training=training, name='dropout14')\n",
    "        \n",
    "    with tf.name_scope('logits') as scope:\n",
    "        logits = tf.layers.dense(dropout14, units = 10, name='logits')\n",
    "\n",
    "    with tf.name_scope('loss') as scope:\n",
    "        softmax = tf.nn.sparse_softmax_cross_entropy_with_logits(labels=y, logits=logits, name = 'softmax')\n",
    "        loss = tf.reduce_mean(softmax) \n",
    "\n",
    "    with tf.name_scope('train') as scope:\n",
    "        optimizer = tf.train.AdamOptimizer(learning_rate).minimize(loss)\n",
    "\n",
    "    with tf.name_scope('eval') as scope:\n",
    "        correct = tf.nn.in_top_k(logits, y, 1)\n",
    "        accuracy = tf.reduce_mean(tf.cast(correct, tf.float32))\n",
    "\n",
    "    with tf.name_scope('summary') as scope:\n",
    "        tf.summary.scalar('loss', loss)\n",
    "        tf.summary.scalar('accuracy', accuracy)\n",
    "        \n",
    "        merged = tf.summary.merge_all()\n",
    "        train_writer = tf.summary.FileWriter(logdir + '/train', tf.get_default_graph())\n",
    "        test_writer = tf.summary.FileWriter(logdir + '/test', tf.get_default_graph())\n",
    "\n",
    "    with tf.name_scope('init') as scope:\n",
    "        init = tf.global_variables_initializer()\n",
    "    "
   ]
  },
  {
   "cell_type": "code",
   "execution_count": 12,
   "metadata": {
    "collapsed": true
   },
   "outputs": [],
   "source": [
    "def train(X_train, y_train, X_validation, y_validation, iteration, X_test):\n",
    "\n",
    "    config = tf.ConfigProto()\n",
    "    config.allow_soft_placement = True\n",
    "    \n",
    "    with tf.Session(config=config) as sess:\n",
    "        sess.run(init)\n",
    "        for step in range(iteration):\n",
    "            X_batch, y_batch = get_batch(X_train, y_train, batch_size)\n",
    "            sess.run(optimizer, feed_dict={X: X_batch, y:y_batch, training:True})\n",
    "                \n",
    "            if step % 100 == 0:\n",
    "                summary, loss_, acc = sess.run([merged, loss, accuracy],\n",
    "                                               feed_dict={X: X_validation, y:y_validation, training:False})\n",
    "                test_writer.add_summary(summary, step)\n",
    "                print('###################################')\n",
    "                print('validation! after '+ str(step) + ' iterations' + \n",
    "                              ' the loss is ' + str(loss_) + ', the accuracy is ' + str(acc))\n",
    "                        \n",
    "                summary, loss_, acc = sess.run([merged, loss, accuracy], \n",
    "                                               feed_dict={X: X_batch, y:y_batch, training:False})\n",
    "                train_writer.add_summary(summary, step)\n",
    "                        \n",
    "                print('training! after '+ str(step) + ' iterations' + \n",
    "                          ' the loss is ' + str(loss_) + ', the accuracy is ' + str(acc))\n",
    "            \n",
    "        y_labels = logits.eval(feed_dict={X: X_test, training:False})\n",
    "        return y_labels.T"
   ]
  },
  {
   "cell_type": "code",
   "execution_count": 13,
   "metadata": {},
   "outputs": [
    {
     "name": "stdout",
     "output_type": "stream",
     "text": [
      "###################################\n",
      "validation! after 0 iterations the loss is 2.91511e+07, the accuracy is 0.1052\n",
      "training! after 0 iterations the loss is 2.48405e+07, the accuracy is 0.164062\n",
      "###################################\n",
      "validation! after 100 iterations the loss is 2.30994, the accuracy is 0.1032\n",
      "training! after 100 iterations the loss is 2.31932, the accuracy is 0.109375\n",
      "###################################\n",
      "validation! after 200 iterations the loss is 2.31413, the accuracy is 0.1012\n",
      "training! after 200 iterations the loss is 2.30903, the accuracy is 0.0859375\n"
     ]
    }
   ],
   "source": [
    "y_predicted = train(X_train, y_train, X_validation, y_validation, iteration, X_test)"
   ]
  },
  {
   "cell_type": "code",
   "execution_count": null,
   "metadata": {
    "collapsed": true
   },
   "outputs": [],
   "source": [
    "save_predictions('ans2-yz3065', y_predicted)"
   ]
  },
  {
   "cell_type": "code",
   "execution_count": null,
   "metadata": {
    "collapsed": true
   },
   "outputs": [],
   "source": [
    "# test if your numpy file has been saved correctly\n",
    "loaded_y = np.load('ans2-yz3065.npy')\n",
    "print(loaded_y.shape)\n",
    "loaded_y[:10]"
   ]
  },
  {
   "cell_type": "code",
   "execution_count": null,
   "metadata": {
    "collapsed": true
   },
   "outputs": [],
   "source": []
  }
 ],
 "metadata": {
  "kernelspec": {
   "display_name": "Python 3",
   "language": "python",
   "name": "python3"
  },
  "language_info": {
   "codemirror_mode": {
    "name": "ipython",
    "version": 3
   },
   "file_extension": ".py",
   "mimetype": "text/x-python",
   "name": "python",
   "nbconvert_exporter": "python",
   "pygments_lexer": "ipython3",
   "version": "3.4.3"
  }
 },
 "nbformat": 4,
 "nbformat_minor": 2
}
